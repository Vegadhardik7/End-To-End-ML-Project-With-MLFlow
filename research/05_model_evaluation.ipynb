{
 "cells": [
  {
   "cell_type": "code",
   "execution_count": 2,
   "id": "e3551e53",
   "metadata": {},
   "outputs": [],
   "source": [
    "import os\n",
    "os.chdir(\"../\")"
   ]
  },
  {
   "cell_type": "code",
   "execution_count": 3,
   "id": "316ab75b",
   "metadata": {},
   "outputs": [
    {
     "data": {
      "text/plain": [
       "'d:\\\\End-To-End-ML-Project-With-MLFlow'"
      ]
     },
     "execution_count": 3,
     "metadata": {},
     "output_type": "execute_result"
    }
   ],
   "source": [
    "%pwd"
   ]
  },
  {
   "cell_type": "code",
   "execution_count": 66,
   "id": "2068a8df",
   "metadata": {},
   "outputs": [],
   "source": [
    "import os\n",
    "os.environ[\"MLFLOW_ENABLE_LEGACY_LOGGING_API\"] = \"true\"\n",
    "os.environ[\"MLFLOW_TRACKING_URI\"]=\"https://dagshub.com/Vegadhardik7/End-To-End-ML-Project-With-MLFlow.mlflow\"\n",
    "os.environ[\"MLFLOW_TRACKING_USERNAME\"]=\"Vegadhardik7\" \n",
    "os.environ[\"MLFLOW_TRACKING_PASSWORD\"]=\"0b097abf2f947a5cd50556274d27ae5b907535de\""
   ]
  },
  {
   "cell_type": "code",
   "execution_count": 71,
   "id": "84e5fa84",
   "metadata": {},
   "outputs": [],
   "source": [
    "from pathlib import Path\n",
    "from dataclasses import dataclass\n",
    "\n",
    "@dataclass(frozen=True)\n",
    "class ModelEvaluationConfig:\n",
    "    root_dir : Path\n",
    "    test_data_path : Path\n",
    "    model_path : Path\n",
    "    all_params : dict\n",
    "    metric_file_name : Path\n",
    "    target_column : str\n",
    "    mlflow_uri : str"
   ]
  },
  {
   "cell_type": "code",
   "execution_count": 72,
   "id": "a35d8bbe",
   "metadata": {},
   "outputs": [],
   "source": [
    "from mlproject.constants import *\n",
    "from mlproject.utils.common import read_yaml, create_directories, save_json\n",
    "\n",
    "class ConfigurationManager:\n",
    "    def __init__(\n",
    "        self,\n",
    "        config_filepath = CONFIG_FILE_PATH,\n",
    "        params_filepath = PARAMS_FILE_PATH,\n",
    "        schema_filepath = SCHEMA_FILE_PATH):\n",
    "\n",
    "        self.config = read_yaml(config_filepath)\n",
    "        self.params = read_yaml(params_filepath)\n",
    "        self.schema = read_yaml(schema_filepath)\n",
    "\n",
    "        create_directories([self.config.artifacts_root])\n",
    "\n",
    "    def get_model_evaluation_config(self) -> ModelEvaluationConfig:\n",
    "        config = self.config.model_evaluation\n",
    "        params = self.params.RandomForest\n",
    "        schema = self.schema.TARGET_COLUMN\n",
    "\n",
    "        create_directories([config.root_dir])\n",
    "\n",
    "        model_evaluation_config = ModelEvaluationConfig(\n",
    "            root_dir = config.root_dir,\n",
    "            test_data_path = config.test_data_path,\n",
    "            model_path = config.model_path,\n",
    "            all_params = params,\n",
    "            metric_file_name = Path(config.metric_file_name),\n",
    "            target_column = schema.name,\n",
    "            mlflow_uri = \"https://dagshub.com/Vegadhardik7/End-To-End-ML-Project-With-MLFlow.mlflow\"\n",
    "        )\n",
    "\n",
    "        return model_evaluation_config"
   ]
  },
  {
   "cell_type": "code",
   "execution_count": 73,
   "id": "0d021685",
   "metadata": {},
   "outputs": [],
   "source": [
    "import pandas as pd\n",
    "import numpy as np  # kept for any downstream use\n",
    "import joblib\n",
    "import mlflow\n",
    "from pathlib import Path\n",
    "from urllib.parse import urlparse\n",
    "\n",
    "from sklearn.metrics import (\n",
    "    accuracy_score,\n",
    "    precision_recall_fscore_support,\n",
    "    roc_auc_score,\n",
    ")\n",
    "from sklearn.preprocessing import label_binarize\n",
    "\n",
    "from src.mlproject.utils.common import save_json\n",
    "\n",
    "\n",
    "class ModelEvaluation:\n",
    "    def __init__(self, config):\n",
    "        self.config = config\n",
    "\n",
    "    # -----------------------------------------------------------\n",
    "    # Metric calculation\n",
    "    # -----------------------------------------------------------\n",
    "    def eval_metrics(self, actual, pred, prob, class_labels):\n",
    "        acc = accuracy_score(actual, pred)\n",
    "        precision, recall, f1, _ = precision_recall_fscore_support(\n",
    "            actual, pred, average=\"macro\"\n",
    "        )\n",
    "\n",
    "        # Macro one‑vs‑rest ROC‑AUC\n",
    "        actual_bin = label_binarize(actual, classes=class_labels)\n",
    "        auc = roc_auc_score(actual_bin, prob, average=\"macro\", multi_class=\"ovr\")\n",
    "\n",
    "        return {\n",
    "            \"accuracy\": acc,\n",
    "            \"precision\": precision,\n",
    "            \"recall\": recall,\n",
    "            \"f1_score\": f1,\n",
    "            \"roc_auc\": auc,\n",
    "        }\n",
    "\n",
    "    # -----------------------------------------------------------\n",
    "    # MLflow logging\n",
    "    # -----------------------------------------------------------\n",
    "    def log_into_mlflow(self):\n",
    "        # 1. Load data and model\n",
    "        test_data = pd.read_csv(self.config.test_data_path)\n",
    "        model = joblib.load(self.config.model_path)\n",
    "\n",
    "        test_x = test_data.drop(columns=[self.config.target_column])\n",
    "        test_y = test_data[self.config.target_column]\n",
    "\n",
    "        # 2. Configure MLflow URI\n",
    "        mlflow.set_tracking_uri(self.config.mlflow_uri)\n",
    "\n",
    "        with mlflow.start_run():\n",
    "            # 3. Predictions\n",
    "            pred_y = model.predict(test_x)\n",
    "            prob_y = model.predict_proba(test_x)\n",
    "\n",
    "            # 4. Metrics\n",
    "            class_labels = sorted(test_y.unique())\n",
    "            scores = self.eval_metrics(test_y, pred_y, prob_y, class_labels)\n",
    "\n",
    "            # Save metrics locally\n",
    "            save_json(path=self.config.metric_file_name, data=scores)\n",
    "\n",
    "            # Log params & metrics to MLflow\n",
    "            mlflow.log_params(self.config.all_params)\n",
    "            for key, val in scores.items():\n",
    "                mlflow.log_metric(key, val)\n",
    "\n",
    "            # 5. Log model artifact (✔ works on DagsHub / any backend)\n",
    "            model_file = \"model.pkl\"\n",
    "            joblib.dump(model, model_file)\n",
    "            mlflow.log_artifact(model_file)\n"
   ]
  },
  {
   "cell_type": "code",
   "execution_count": 74,
   "id": "fec585ee",
   "metadata": {},
   "outputs": [
    {
     "name": "stdout",
     "output_type": "stream",
     "text": [
      "[2025-06-28 18:04:56,672: INFO: common: yaml file: config\\config.yaml loaded successfully]\n",
      "[2025-06-28 18:04:56,683: INFO: common: yaml file: params.yaml loaded successfully]\n",
      "[2025-06-28 18:04:56,686: INFO: common: yaml file: schema.yaml loaded successfully]\n",
      "[2025-06-28 18:04:56,687: INFO: common: created directory at: artifacts]\n",
      "[2025-06-28 18:04:56,689: INFO: common: created directory at: artifacts/model_evaluation]\n",
      "[2025-06-28 18:04:57,387: INFO: common: json file saved at: artifacts\\model_evaluation\\metrics.json]\n"
     ]
    },
    {
     "name": "stderr",
     "output_type": "stream",
     "text": [
      "d:\\End-To-End-ML-Project-With-MLFlow\\.venv\\Lib\\site-packages\\sklearn\\metrics\\_classification.py:1706: UndefinedMetricWarning: Precision is ill-defined and being set to 0.0 in labels with no predicted samples. Use `zero_division` parameter to control this behavior.\n",
      "  _warn_prf(average, modifier, f\"{metric.capitalize()} is\", result.shape[0])\n"
     ]
    },
    {
     "name": "stdout",
     "output_type": "stream",
     "text": [
      "🏃 View run classy-moose-497 at: https://dagshub.com/Vegadhardik7/End-To-End-ML-Project-With-MLFlow.mlflow/#/experiments/0/runs/c6fd9256d5684ecc88fcfcef328c88ff\n",
      "🧪 View experiment at: https://dagshub.com/Vegadhardik7/End-To-End-ML-Project-With-MLFlow.mlflow/#/experiments/0\n"
     ]
    }
   ],
   "source": [
    "try:\n",
    "    config = ConfigurationManager()\n",
    "    model_evaluation_config = config.get_model_evaluation_config()\n",
    "    model_evaluation_config = ModelEvaluation(config=model_evaluation_config)\n",
    "    model_evaluation_config.log_into_mlflow()\n",
    "except Exception as e:\n",
    "    raise e"
   ]
  },
  {
   "cell_type": "code",
   "execution_count": null,
   "id": "5aa18f9e",
   "metadata": {},
   "outputs": [],
   "source": []
  }
 ],
 "metadata": {
  "kernelspec": {
   "display_name": ".venv",
   "language": "python",
   "name": "python3"
  },
  "language_info": {
   "codemirror_mode": {
    "name": "ipython",
    "version": 3
   },
   "file_extension": ".py",
   "mimetype": "text/x-python",
   "name": "python",
   "nbconvert_exporter": "python",
   "pygments_lexer": "ipython3",
   "version": "3.11.0"
  }
 },
 "nbformat": 4,
 "nbformat_minor": 5
}
